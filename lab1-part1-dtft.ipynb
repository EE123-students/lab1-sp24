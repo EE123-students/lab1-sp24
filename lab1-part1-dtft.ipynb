{
 "cells": [
  {
   "cell_type": "markdown",
   "metadata": {},
   "source": [
    "# EE 123 Lab 1 - Basic Python and DTFT"
   ]
  },
  {
   "cell_type": "markdown",
   "metadata": {},
   "source": [
    "### General Jupyter Notebook Usage Instructions"
   ]
  },
  {
   "cell_type": "markdown",
   "metadata": {},
   "source": [
    "- Click the `Play` button to run and advance a cell. The short-cut for it is `Shift-Enter`\n",
    "- To add a new cell, either select `Insert->Insert New Cell Below` or type `b` key after select a cell\n",
    "- You can change the cell mode from code to text in the pulldown menu or entering `m`. Use `Markdown` for text\n",
    "- Use `y` to change back to code mode.\n",
    "- You can change the texts in the `Markdown` cells by double-clicking them.\n",
    "- To save your notebook, either select `File->Save and Checkpoint` or hit `Command-s` for Mac and `Ctrl-s` for Windows\n",
    "- To undo in each cell, hit `Command-z` for Mac and `Ctrl-z` for Windows\n",
    "- To undo `Delete Cell`, select `Edit->Undo Delete Cell` or type `z` key\n",
    "- `Help->Keyboard Shortcuts` has a list of keyboard shortcuts"
   ]
  },
  {
   "cell_type": "markdown",
   "metadata": {},
   "source": [
    "### Basic Python ###"
   ]
  },
  {
   "cell_type": "markdown",
   "metadata": {},
   "source": [
    "**If you need a basic refresher on Python and Numpy, you can read and run the python tutorial `python_tutorial.ipynb`.**\n",
    "\n",
    "Double-click the answer cell to add your answer. You can also insert a new cell by selecting `Insert->Insert New Cell Below` or typing the `b` key after selecting a cell.\n",
    "\n",
    "Below are a few basic Python usage examples and tips."
   ]
  },
  {
   "cell_type": "markdown",
   "metadata": {},
   "source": [
    "* Adding a `?` after a function will open the help/description window for that function."
   ]
  },
  {
   "cell_type": "markdown",
   "metadata": {},
   "source": [
    "* The output of the following commands below is `[7 2 3 4 5 6]`. This is because array slicing creates a view instead of an actual copy of the x array that is assigned to y. You can read more about views and copies [here](https://numpy.org/doc/stable/user/basics.copies.html).\n",
    "```python\n",
    "    x = np.array([1,2,3,4,5,6]) \n",
    "    y = x[0:4]\n",
    "    y[0] = 7\n",
    "    print(x)\n",
    " ```"
   ]
  },
  {
   "cell_type": "markdown",
   "metadata": {},
   "source": [
    "* `np` and `plt` are the standard abbreviations for `numpy` and `matplotlib.pyplot` libraries as shown below. Run the cell below to import them."
   ]
  },
  {
   "cell_type": "code",
   "execution_count": null,
   "metadata": {},
   "outputs": [],
   "source": [
    "import numpy as np\n",
    "import matplotlib.pyplot as plt\n",
    "%matplotlib inline"
   ]
  },
  {
   "cell_type": "markdown",
   "metadata": {},
   "source": [
    "**(Optional)** Generate the same plot as in the following figure inline:\n",
    "    \n",
    "<img style=\"float: left;\" src=\"./tutorial_plot.jpg\"> "
   ]
  },
  {
   "cell_type": "markdown",
   "metadata": {},
   "source": [
    "If you are having trouble, feel free to look at the **Plotting** section in ```python_tutorial.ipynb```."
   ]
  },
  {
   "cell_type": "code",
   "execution_count": null,
   "metadata": {},
   "outputs": [],
   "source": [
    "x = np.r_[:1:0.01] # if you don't specify a number before the colon, the starting index defaults to 0\n",
    "y1 = np.exp( -x )\n",
    "y2 = np.sin( x*10.0 )/4.0 + 0.5\n",
    "\n",
    "# Your code here:\n",
    "\n"
   ]
  },
  {
   "cell_type": "markdown",
   "metadata": {},
   "source": [
    "## DTFT Questions"
   ]
  },
  {
   "cell_type": "markdown",
   "metadata": {},
   "source": [
    "In this part of the lab, we will look at the DTFT of rectangular windows and triangular windows and compare their performances as low-pass filters. There is a code template provided for each part to help you become familiar with numpy syntax."
   ]
  },
  {
   "cell_type": "markdown",
   "metadata": {},
   "source": [
    "### Part (a):"
   ]
  },
  {
   "cell_type": "markdown",
   "metadata": {},
   "source": [
    "Plot the DTFT (at least 512 points) of the rectangular window:\n",
    "\n",
    "<center>$$ w[n] = \\left \\{ \\begin{array}{cc} 1 & -N \\leq n \\leq N \\\\ 0 & \\mathrm{otherwise} \\end{array} \\right. $$ </center>\n",
    "\t\t\t\t\n",
    "for $ N=5,~20,~100$. Scale the DTFT so that $W(e^{j0})=1$ in your plots. Label your plots! \n",
    "\n",
    "Describe the effect of increasing $N$ on the DTFT.\n",
    "\n",
    "A code template is provided for each part"
   ]
  },
  {
   "cell_type": "code",
   "execution_count": null,
   "metadata": {},
   "outputs": [],
   "source": [
    "N = 5\n",
    "t = np.r_[-N:N+1]\n",
    "a = np.ones(N)\n",
    "np.meshgrid?"
   ]
  },
  {
   "cell_type": "markdown",
   "metadata": {},
   "source": [
    "### Solution for (a):"
   ]
  },
  {
   "cell_type": "code",
   "execution_count": null,
   "metadata": {},
   "outputs": [],
   "source": [
    "#repeat for N = 5, 20, 100\n",
    "for N in [5, 20, 100]:  \n",
    "\n",
    "    # create 2N+1-point temporal indices (NN) from -N to N using np.r_\n",
    "    NN = # TODO\n",
    "    # create window function (w) using np.ones\n",
    "    w = # TODO\n",
    "    # create 512-point frequency indices (Omega) from -pi to pi (use np.pi)\n",
    "    Omega = # TODO\n",
    "    # create matrix of appropriate temporal indices (n) and frequency indices (omega) using np.meshgrid\n",
    "    n,omega = # TODO\n",
    "\n",
    "    # create DTFT matrix \n",
    "    DTFT = # TODO\n",
    "\n",
    "    # evaluate DTFT\n",
    "    W = # TODO\n",
    "\n",
    "    # normalize W such that W at omega=0 is 1\n",
    "    W = # TODO\n",
    "\n",
    "    # create plots\n",
    "    # plot both real and imag on the same figure ( use W.real and W.imag )\n",
    "    plt.figure()\n",
    "    # Your code here:\n",
    "    \n",
    "    # End of your code\n",
    "    \n",
    "    plt.xlabel(\"Frequency\")\n",
    "    plt.title(\"Fourier transform of windowed filter with \"+str(N)+\" points\")\n",
    "    plt.legend((\"Real\",\"Imaginary\"))"
   ]
  },
  {
   "cell_type": "markdown",
   "metadata": {},
   "source": [
    "Describe the effect of increasing $N$ on the DTFT of the rectangular window."
   ]
  },
  {
   "cell_type": "markdown",
   "metadata": {},
   "source": [
    "**Your answer here:**\n",
    "\n"
   ]
  },
  {
   "cell_type": "markdown",
   "metadata": {},
   "source": [
    "### Part (b):"
   ]
  },
  {
   "cell_type": "markdown",
   "metadata": {},
   "source": [
    "Repeat part (a) for the triangular window:\n",
    "$$w_\\triangle [n] =  \\left ( 1- \\frac{|n|}{N} \\right ) w[n].$$"
   ]
  },
  {
   "cell_type": "markdown",
   "metadata": {},
   "source": [
    "### Solution for (b):"
   ]
  },
  {
   "cell_type": "code",
   "execution_count": null,
   "metadata": {},
   "outputs": [],
   "source": [
    "#repeat for N = 5, 20, 100\n",
    "for N in [5, 20, 100]:  \n",
    "\n",
    "    # create 2N+1-point temporal indices (NN) from -N to N using np.r_\n",
    "    NN = # TODO\n",
    "    # create window function (w) \n",
    "    w = # TODO\n",
    "    # create 512-point frequency indices (Omega) from -pi to pi (use np.pi)\n",
    "    Omega = # TODO\n",
    "    # create matrix of appropriate temporal indices (n) and frequency indices (omega) using np.meshgrid\n",
    "    n,omega = # TODO\n",
    "    # create DTFT matrix \n",
    "    DTFT = # TODO\n",
    "\n",
    "    # evaluate DTFT\n",
    "    W = # TODO\n",
    "\n",
    "    # normalize W such that W at omega=0 is 1\n",
    "    W = # TODO\n",
    "    \n",
    "    # create plots\n",
    "    # plot both real and imag on the same figure ( use W.real and W.imag )\n",
    "    plt.figure()\n",
    "    # Your code here:\n",
    "\n",
    "    # End of your code\n",
    "\n",
    "    plt.xlabel(\"Frequency\")\n",
    "    plt.title(\"Fourier transform of window with \"+str(N)+\" points\")\n",
    "    plt.legend((\"Real\",\"Imaginary\"))"
   ]
  },
  {
   "cell_type": "markdown",
   "metadata": {},
   "source": [
    "Describe the effect of increasing $N$ on the DTFT of the triangular window."
   ]
  },
  {
   "cell_type": "markdown",
   "metadata": {},
   "source": [
    "**Your answer here:**\n",
    "\n"
   ]
  },
  {
   "cell_type": "markdown",
   "metadata": {},
   "source": [
    "### Part (c):"
   ]
  },
  {
   "cell_type": "markdown",
   "metadata": {},
   "source": [
    "Consider the ideal low-pass filter with cut-off frequency $\\omega_c = 0.3 \\pi$. Truncate the impulse response of this filter using the windows in parts (a) and (b), and plot the frequency response of the resulting filters. Explain the differences."
   ]
  },
  {
   "cell_type": "markdown",
   "metadata": {},
   "source": [
    "### Solution for (c):"
   ]
  },
  {
   "cell_type": "code",
   "execution_count": null,
   "metadata": {},
   "outputs": [],
   "source": [
    "#repeat for N = 5, 20, 100\n",
    "for N in [5, 20, 100]:  \n",
    "\n",
    "    # create 2N+1-point temporal indices (NN) from -N to N using np.r_\n",
    "    NN = # TODO\n",
    "    # create window function (w) \n",
    "    w = # TODO\n",
    "    # create windowed low-pass filter (h) \n",
    "    h = # TODO\n",
    "    # create 512-point frequency indices (Omega) from -pi to pi (use np.pi)\n",
    "    Omega = # TODO\n",
    "    # create matrix of appropriate temporal indices (n) and frequency indices (omega) using np.meshgrid\n",
    "    n,omega = # TODO\n",
    "    # create DTFT matrix \n",
    "    DTFT = # TODO\n",
    "\n",
    "    # evaluate DTFT\n",
    "    H = # TODO\n",
    "\n",
    "    # normalize H such that H at omega=0 is 1\n",
    "    H = # TODO\n",
    "    # create plots\n",
    "    # plot both real and imag on the same figure ( use H.real and H.imag )\n",
    "    plt.figure()\n",
    "    # Your code here:\n",
    "\n",
    "    # End of your code\n",
    "    \n",
    "    plt.xlabel(\"Frequency\")\n",
    "    plt.title(\"Fourier transform of windowed filter with \"+str(N)+\" points\")\n",
    "    plt.legend((\"Real\",\"Imaginary\"))"
   ]
  },
  {
   "cell_type": "code",
   "execution_count": null,
   "metadata": {},
   "outputs": [],
   "source": [
    "#repeat for N = 5, 20, 100\n",
    "for N in [5, 20, 100]:  \n",
    "\n",
    "    # create 2N+1-point temporal indices (NN) from -N to N using np.r_\n",
    "    NN = # TODO\n",
    "    # create window function (w) \n",
    "    w = # TODO\n",
    "    # create windowed low-pass filter (h) \n",
    "    h = # TODO\n",
    "    # create 512-point frequency indices (Omega) from -pi to pi (use np.pi)\n",
    "    Omega = # TODO\n",
    "    # create matrix of appropriate temporal indices (n) and frequency indices (omega) using np.meshgrid\n",
    "    n,omega = # TODO\n",
    "    # create DTFT matrix \n",
    "    DTFT = # TODO\n",
    "\n",
    "    # evaluate DTFT\n",
    "    H = # TODO\n",
    "\n",
    "    # normalize H such that H at omega=0 is 1\n",
    "    H = # TODO\n",
    "    # create plots\n",
    "    # plot both real and imag on the same figure ( use H.real and H.imag )\n",
    "    plt.figure()\n",
    "    # Your code here:\n",
    "\n",
    "    # End of your code\n",
    "    \n",
    "    plt.xlabel(\"Frequency\")\n",
    "    plt.title(\"Fourier transform of windowed filter with \"+str(N)+\" points\")\n",
    "    plt.legend((\"Real\",\"Imaginary\"))"
   ]
  },
  {
   "cell_type": "markdown",
   "metadata": {},
   "source": [
    "Explain the difference."
   ]
  },
  {
   "cell_type": "markdown",
   "metadata": {},
   "source": [
    "**Your answer here:**\n",
    "\n"
   ]
  }
 ],
 "metadata": {
  "kernelspec": {
   "display_name": "Python 3 (ipykernel)",
   "language": "python",
   "name": "python3"
  },
  "language_info": {
   "codemirror_mode": {
    "name": "ipython",
    "version": 3
   },
   "file_extension": ".py",
   "mimetype": "text/x-python",
   "name": "python",
   "nbconvert_exporter": "python",
   "pygments_lexer": "ipython3",
   "version": "3.10.13"
  }
 },
 "nbformat": 4,
 "nbformat_minor": 1
}
